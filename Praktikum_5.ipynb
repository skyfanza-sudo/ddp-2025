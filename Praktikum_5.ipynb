{
  "nbformat": 4,
  "nbformat_minor": 0,
  "metadata": {
    "colab": {
      "provenance": [],
      "authorship_tag": "ABX9TyNMbfXXft1+sI/CCqV5OFml",
      "include_colab_link": true
    },
    "kernelspec": {
      "name": "python3",
      "display_name": "Python 3"
    },
    "language_info": {
      "name": "python"
    }
  },
  "cells": [
    {
      "cell_type": "markdown",
      "metadata": {
        "id": "view-in-github",
        "colab_type": "text"
      },
      "source": [
        "<a href=\"https://colab.research.google.com/github/skyfanza-sudo/ddp-2025/blob/main/Praktikum_5.ipynb\" target=\"_parent\"><img src=\"https://colab.research.google.com/assets/colab-badge.svg\" alt=\"Open In Colab\"/></a>"
      ]
    },
    {
      "cell_type": "code",
      "execution_count": null,
      "metadata": {
        "id": "mk-Tm0H_1E_1",
        "colab": {
          "base_uri": "https://localhost:8080/"
        },
        "outputId": "2900b931-a45d-4b71-c6ec-7c226be4e33d"
      },
      "outputs": [
        {
          "output_type": "stream",
          "name": "stdout",
          "text": [
            "['beat', 'motor', '120', 'biru', 2]\n",
            "['beat', 'motor', '120', 'biru', 2, 12000000, 'metic']\n",
            "['beat', 'motor', 'Honda', '120', 'biru', 2, 12000000, 'metic']\n"
          ]
        }
      ],
      "source": [
        "\n",
        "namakendaraan = \"beat\"\n",
        "jeniskendaraan = \"motor\"\n",
        "cckendaraan = \"120\"\n",
        "warnakendaraan = \"biru\"\n",
        "rodakendaraan = 2\n",
        "\n",
        "data_kendaraan = [namakendaraan, jeniskendaraan, cckendaraan, warnakendaraan, rodakendaraan\n",
        "]\n",
        "print(data_kendaraan)\n",
        "\n",
        "hargakendaraan = 12000000\n",
        "tipekendaraan = \"metic\"\n",
        "\n",
        "data_kendaraan.append(hargakendaraan)\n",
        "data_kendaraan.append(tipekendaraan)\n",
        "print(data_kendaraan)\n",
        "\n",
        "merkkendaraan = \"Honda\"\n",
        "data_kendaraan.insert(2, merkkendaraan)\n",
        "print(data_kendaraan)"
      ]
    },
    {
      "cell_type": "code",
      "source": [
        "\n",
        "nilai = int(input(\"\"\"Mari Menghitung\n",
        "pilih 1 jika menghitung luas persegi\n",
        "pilih 2 jika menghitung luas lingkaran\n",
        "pilih 3 jika menghitung luas segitiga\n",
        "\"\"\"))\n",
        "\n",
        "match nilai:\n",
        "  case 1 :\n",
        "    sisi = int(input(\"masukan sisi \"))\n",
        "    total = sisi * sisi\n",
        "    print(\"luas persegi adalah \",total)\n",
        "  case 2 :\n",
        "    jari = int(input(\"masukan jari-jari \"))\n",
        "    total = 3.14 * jari * jari\n",
        "    print(\"luas lingkaran adalah \",total)\n",
        "  case 3 :\n",
        "    alas = int(input(\"masukan alas \"))\n",
        "    tinggi = int(input(\"masukan tinggi \"))\n",
        "    total = alas * tinggi / 2\n",
        "    print(\"luas segitiga adalah \",total)\n",
        "  case _:\n",
        "    print(\"salah masukan input\")"
      ],
      "metadata": {
        "colab": {
          "base_uri": "https://localhost:8080/"
        },
        "id": "MYEw3VBb9f22",
        "outputId": "fe8fc3e7-274b-4ea3-97fb-e2a283d953f8"
      },
      "execution_count": 62,
      "outputs": [
        {
          "output_type": "stream",
          "name": "stdout",
          "text": [
            "Mari Menghitung\n",
            "pilih 1 jika menghitung luas persegi\n",
            "pilih 2 jika menghitung luas lingkaran\n",
            "pilih 3 jika menghitung luas segitiga \n",
            "3\n",
            "masukan alas 2\n",
            "masukan tinggi 3\n",
            "luas segitiga adalah  3.0\n"
          ]
        }
      ]
    },
    {
      "cell_type": "code",
      "source": [],
      "metadata": {
        "id": "LspvbjwABfDf"
      },
      "execution_count": null,
      "outputs": []
    }
  ]
}
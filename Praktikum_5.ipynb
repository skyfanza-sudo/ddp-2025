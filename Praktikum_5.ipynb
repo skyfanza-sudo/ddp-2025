{
  "nbformat": 4,
  "nbformat_minor": 0,
  "metadata": {
    "colab": {
      "provenance": [],
      "authorship_tag": "ABX9TyPxZJkh2RkjldFSS8UuOprf",
      "include_colab_link": true
    },
    "kernelspec": {
      "name": "python3",
      "display_name": "Python 3"
    },
    "language_info": {
      "name": "python"
    }
  },
  "cells": [
    {
      "cell_type": "markdown",
      "metadata": {
        "id": "view-in-github",
        "colab_type": "text"
      },
      "source": [
        "<a href=\"https://colab.research.google.com/github/skyfanza-sudo/ddp-2025/blob/main/Praktikum_5.ipynb\" target=\"_parent\"><img src=\"https://colab.research.google.com/assets/colab-badge.svg\" alt=\"Open In Colab\"/></a>"
      ]
    },
    {
      "cell_type": "code",
      "execution_count": 1,
      "metadata": {
        "id": "mk-Tm0H_1E_1",
        "colab": {
          "base_uri": "https://localhost:8080/"
        },
        "outputId": "2900b931-a45d-4b71-c6ec-7c226be4e33d"
      },
      "outputs": [
        {
          "output_type": "stream",
          "name": "stdout",
          "text": [
            "['beat', 'motor', '120', 'biru', 2]\n",
            "['beat', 'motor', '120', 'biru', 2, 12000000, 'metic']\n",
            "['beat', 'motor', 'Honda', '120', 'biru', 2, 12000000, 'metic']\n"
          ]
        }
      ],
      "source": [
        "\n",
        "namakendaraan = \"beat\"\n",
        "jeniskendaraan = \"motor\"\n",
        "cckendaraan = \"120\"\n",
        "warnakendaraan = \"biru\"\n",
        "rodakendaraan = 2\n",
        "\n",
        "data_kendaraan = [namakendaraan, jeniskendaraan, cckendaraan, warnakendaraan, rodakendaraan\n",
        "]\n",
        "print(data_kendaraan)\n",
        "\n",
        "hargakendaraan = 12000000\n",
        "tipekendaraan = \"metic\"\n",
        "\n",
        "data_kendaraan.append(hargakendaraan)\n",
        "data_kendaraan.append(tipekendaraan)\n",
        "print(data_kendaraan)\n",
        "\n",
        "merkkendaraan = \"Honda\"\n",
        "data_kendaraan.insert(2, merkkendaraan)\n",
        "print(data_kendaraan)"
      ]
    },
    {
      "cell_type": "code",
      "source": [
        "pilihan = input(\"\"\"\n",
        "Silahkan pilih menu yang diinginkan\n",
        "====================================\n",
        "1. Luas Persegi\n",
        "2. Luas Lingkaran\n",
        "3. Luas Segitiga\n",
        "====================================\n",
        "Kirimkan hanya angka saja,\n",
        "jawaban = \"\"\")"
      ],
      "metadata": {
        "colab": {
          "base_uri": "https://localhost:8080/"
        },
        "id": "MYEw3VBb9f22",
        "outputId": "019cde3e-3060-48f8-acc3-b0c26d53f959"
      },
      "execution_count": 3,
      "outputs": [
        {
          "name": "stdout",
          "output_type": "stream",
          "text": [
            "\n",
            "Silahkan pilih menu yang diinginkan \n",
            "====================================\n",
            "1. Luas Persegi \n",
            "2. Luas Lingkaran \n",
            "3. Luas Segitiga \n",
            "====================================\n",
            "Kirimkan hanya angka saja,\n",
            "jawaban = Luas Persegi \n"
          ]
        }
      ]
    }
  ]
}